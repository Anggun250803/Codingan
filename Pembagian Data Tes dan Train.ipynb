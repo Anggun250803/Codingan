{
 "cells": [
  {
   "cell_type": "code",
   "execution_count": null,
   "metadata": {},
   "outputs": [],
   "source": [
    "#pip install scikit-learn"
   ]
  },
  {
   "cell_type": "code",
   "execution_count": 5,
   "metadata": {},
   "outputs": [
    {
     "name": "stdout",
     "output_type": "stream",
     "text": [
      "Total data: 200\n",
      "Train data: 150\n",
      "Test data: 50\n"
     ]
    }
   ],
   "source": [
    "########################### ALLIGATOR ##################\n",
    "import os\n",
    "import shutil\n",
    "from sklearn.model_selection import train_test_split\n",
    "\n",
    "# Folder asal data\n",
    "source_dir = \"/Users/anggun/Downloads/SKRIPSI ANGGUN/ANGGUN/2. Data Baru CLAHE/CLAHE/Pothole\"  # ganti dengan folder Anda\n",
    "all_files = os.listdir(source_dir)\n",
    "\n",
    "# Hanya ambil file dengan ekstensi tertentu (misal: .jpg, .png)\n",
    "files = [f for f in all_files if f.endswith(('.jpg', '.png', '.jpeg'))]\n",
    "\n",
    "# Bagi data (misal: 10% testing, 90% training) ### (0.1= 10%, 0.9=90%\n",
    "train_files, test_files = train_test_split(files, test_size=0.25, random_state=42)\n",
    "\n",
    "# Buat folder tujuan\n",
    "train_dir = \"/Users/anggun/Downloads/SKRIPSI ANGGUN/ANGGUN/2. Data Train & Validation/Pothole\"\n",
    "test_dir = \"/Users/anggun/Downloads/SKRIPSI ANGGUN/ANGGUN/2. Data Test/Pothole\"\n",
    "\n",
    "os.makedirs(train_dir, exist_ok=True)\n",
    "os.makedirs(test_dir, exist_ok=True)\n",
    "\n",
    "# Pindahkan file ke folder train\n",
    "for file in train_files:\n",
    "    shutil.copy(os.path.join(source_dir, file), os.path.join(train_dir, file))\n",
    "\n",
    "# Pindahkan file ke folder test\n",
    "for file in test_files:\n",
    "    shutil.copy(os.path.join(source_dir, file), os.path.join(test_dir, file))\n",
    "\n",
    "print(f\"Total data: {len(files)}\")\n",
    "print(f\"Train data: {len(train_files)}\")\n",
    "print(f\"Test data: {len(test_files)}\")"
   ]
  },
  {
   "cell_type": "code",
   "execution_count": 6,
   "metadata": {},
   "outputs": [
    {
     "name": "stdout",
     "output_type": "stream",
     "text": [
      "Total data: 200\n",
      "Train data: 150\n",
      "Test data: 50\n"
     ]
    }
   ],
   "source": [
    "########################### ALLIGATOR ##################\n",
    "import os\n",
    "import shutil\n",
    "from sklearn.model_selection import train_test_split\n",
    "\n",
    "# Folder asal data\n",
    "source_dir = \"/Users/anggun/Downloads/SKRIPSI ANGGUN/ANGGUN/2. Data Baru CLAHE/CLAHE/Corrugation\"  # ganti dengan folder Anda\n",
    "all_files = os.listdir(source_dir)\n",
    "\n",
    "# Hanya ambil file dengan ekstensi tertentu (misal: .jpg, .png)\n",
    "files = [f for f in all_files if f.endswith(('.jpg', '.png', '.jpeg'))]\n",
    "\n",
    "# Bagi data (misal: 10% testing, 90% training) ### (0.2= 20%, 0.8=80%\n",
    "train_files, test_files = train_test_split(files, test_size=0.25, random_state=42)\n",
    "\n",
    "# Buat folder tujuan\n",
    "train_dir = \"/Users/anggun/Downloads/SKRIPSI ANGGUN/ANGGUN/2. Data Train & Validation/Corrugation\"\n",
    "test_dir = \"/Users/anggun/Downloads/SKRIPSI ANGGUN/ANGGUN/2. Data Test/Corrugation\"\n",
    "\n",
    "os.makedirs(train_dir, exist_ok=True)\n",
    "os.makedirs(test_dir, exist_ok=True)\n",
    "\n",
    "# Pindahkan file ke folder train\n",
    "for file in train_files:\n",
    "    shutil.copy(os.path.join(source_dir, file), os.path.join(train_dir, file))\n",
    "\n",
    "# Pindahkan file ke folder test\n",
    "for file in test_files:\n",
    "    shutil.copy(os.path.join(source_dir, file), os.path.join(test_dir, file))\n",
    "\n",
    "print(f\"Total data: {len(files)}\")\n",
    "print(f\"Train data: {len(train_files)}\")\n",
    "print(f\"Test data: {len(test_files)}\")"
   ]
  },
  {
   "cell_type": "code",
   "execution_count": 7,
   "metadata": {},
   "outputs": [
    {
     "name": "stdout",
     "output_type": "stream",
     "text": [
      "Total data: 200\n",
      "Train data: 150\n",
      "Test data: 50\n"
     ]
    }
   ],
   "source": [
    "########################### ALLIGATOR ##################\n",
    "import os\n",
    "import shutil\n",
    "from sklearn.model_selection import train_test_split\n",
    "\n",
    "# Folder asal data\n",
    "source_dir = \"/Users/anggun/Downloads/SKRIPSI ANGGUN/ANGGUN/2. Data Baru CLAHE/CLAHE/Alligator\"  # ganti dengan folder Anda\n",
    "all_files = os.listdir(source_dir)\n",
    "\n",
    "# Hanya ambil file dengan ekstensi tertentu (misal: .jpg, .png)\n",
    "files = [f for f in all_files if f.endswith(('.jpg', '.png', '.jpeg'))]\n",
    "\n",
    "# Bagi data (misal: 30% testing, 70% training) ### (0.3= 20%, 0.7=70%\n",
    "train_files, test_files = train_test_split(files, test_size=0.25, random_state=42)\n",
    "\n",
    "# Buat folder tujuan\n",
    "train_dir = \"/Users/anggun/Downloads/SKRIPSI ANGGUN/ANGGUN/2. Data Train & Validation/Alligator\"\n",
    "test_dir = \"/Users/anggun/Downloads/SKRIPSI ANGGUN/ANGGUN/2. Data Test/Alligator\"\n",
    "\n",
    "os.makedirs(train_dir, exist_ok=True)\n",
    "os.makedirs(test_dir, exist_ok=True)\n",
    "\n",
    "# Pindahkan file ke folder train\n",
    "for file in train_files:\n",
    "    shutil.copy(os.path.join(source_dir, file), os.path.join(train_dir, file))\n",
    "\n",
    "# Pindahkan file ke folder test\n",
    "for file in test_files:\n",
    "    shutil.copy(os.path.join(source_dir, file), os.path.join(test_dir, file))\n",
    "\n",
    "print(f\"Total data: {len(files)}\")\n",
    "print(f\"Train data: {len(train_files)}\")\n",
    "print(f\"Test data: {len(test_files)}\")"
   ]
  },
  {
   "cell_type": "code",
   "execution_count": null,
   "metadata": {},
   "outputs": [],
   "source": [
    "#75% dan 25%"
   ]
  }
 ],
 "metadata": {
  "kernelspec": {
   "display_name": "Python 3",
   "language": "python",
   "name": "python3"
  },
  "language_info": {
   "codemirror_mode": {
    "name": "ipython",
    "version": 3
   },
   "file_extension": ".py",
   "mimetype": "text/x-python",
   "name": "python",
   "nbconvert_exporter": "python",
   "pygments_lexer": "ipython3",
   "version": "3.12.5"
  }
 },
 "nbformat": 4,
 "nbformat_minor": 2
}
