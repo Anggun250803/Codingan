{
 "cells": [
  {
   "cell_type": "code",
   "execution_count": 1,
   "metadata": {},
   "outputs": [],
   "source": [
    "#pip install opencv-contrib-python"
   ]
  },
  {
   "cell_type": "code",
   "execution_count": 1,
   "metadata": {},
   "outputs": [
    {
     "name": "stdout",
     "output_type": "stream",
     "text": [
      "4.10.0\n"
     ]
    }
   ],
   "source": [
    "import cv2\n",
    "print(cv2.__version__)"
   ]
  },
  {
   "cell_type": "code",
   "execution_count": 2,
   "metadata": {},
   "outputs": [],
   "source": [
    "import cv2\n",
    "import os"
   ]
  },
  {
   "cell_type": "code",
   "execution_count": 9,
   "metadata": {},
   "outputs": [],
   "source": [
    "# Path folder sumber dan folder tujuan\n",
    "source_folder = \"/Users/anggun/Downloads/SKRIPSI ANGGUN/ANGGUN/2. Data Train & Validation/Alligator\"\n",
    "destination_folder = \"/Users/anggun/Downloads/SKRIPSI ANGGUN/ANGGUN/2. Data Baru CLAHE/CLAHE/Alligator\""
   ]
  },
  {
   "cell_type": "code",
   "execution_count": 10,
   "metadata": {},
   "outputs": [],
   "source": [
    "# Buat objek CLAHE (Contrast Limited Adaptive Histogram Equalization)\n",
    "clahe = cv2.createCLAHE(clipLimit=2.0, tileGridSize=(8,8))"
   ]
  },
  {
   "cell_type": "code",
   "execution_count": 11,
   "metadata": {},
   "outputs": [
    {
     "name": "stdout",
     "output_type": "stream",
     "text": [
      "Proses selesai.\n"
     ]
    }
   ],
   "source": [
    "# Loop melalui gambar-gambar dalam folder sumber\n",
    "for filename in os.listdir(source_folder):\n",
    "    if filename.endswith('.jpg') or filename.endswith('.jpeg'):  # Pastikan hanya file gambar yang diproses\n",
    "        # Baca gambar\n",
    "        image_path = os.path.join(source_folder, filename)\n",
    "        image = cv2.imread(image_path, 0)  # Mode 0 untuk membaca gambar ke dalam skala keabuan (grayscale)\n",
    "        \n",
    "        # Terapkan CLAHE pada gambar\n",
    "        clahe_image = clahe.apply(image)\n",
    "\n",
    "        # Simpan gambar yang telah ditingkatkan kontras ke folder tujuan\n",
    "        destination_path = os.path.join(destination_folder, filename)\n",
    "        cv2.imwrite(destination_path, clahe_image)\n",
    "\n",
    "print(\"Proses selesai.\")"
   ]
  }
 ],
 "metadata": {
  "kernelspec": {
   "display_name": "Python 3",
   "language": "python",
   "name": "python3"
  },
  "language_info": {
   "codemirror_mode": {
    "name": "ipython",
    "version": 3
   },
   "file_extension": ".py",
   "mimetype": "text/x-python",
   "name": "python",
   "nbconvert_exporter": "python",
   "pygments_lexer": "ipython3",
   "version": "3.12.5"
  }
 },
 "nbformat": 4,
 "nbformat_minor": 2
}
