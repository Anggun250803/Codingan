{
 "cells": [
  {
   "cell_type": "code",
   "execution_count": 1,
   "metadata": {},
   "outputs": [
    {
     "name": "stdout",
     "output_type": "stream",
     "text": [
      "Ukuran gambar: (299, 299)\n",
      "Contoh matriks piksel 10x10 pertama:\n",
      " [[149  89 221 242]\n",
      " [156 104 225 243]\n",
      " [135  69 126 130]\n",
      " [ 67  94 119  44]]\n"
     ]
    }
   ],
   "source": [
    "import cv2\n",
    "import numpy as np\n",
    "\n",
    "# Baca gambar dalam grayscale\n",
    "img_gray = cv2.imread(\"/Users/anggun/Downloads/SKRIPSI ANGGUN/ANGGUN/2. Data Baru CLAHE/CLAHE/Corrugation/1_3_TURI_Corrugation_Foto.jpeg\", cv2.IMREAD_GRAYSCALE)\n",
    "\n",
    "# Ukuran gambar\n",
    "print(\"Ukuran gambar:\", img_gray.shape)\n",
    "\n",
    "# Tampilkan sebagian matriks (misalnya 10x10 pertama, biar tidak kepanjangan)\n",
    "print(\"Contoh matriks piksel 10x10 pertama:\\n\", img_gray[:4, :4])\n",
    "\n",
    "# Jika ingin seluruh matriks\n",
    "# WARNING: bisa sangat panjang kalau gambarnya besar\n",
    "# print(\"Matriks penuh:\\n\", img_gray)\n"
   ]
  }
 ],
 "metadata": {
  "kernelspec": {
   "display_name": "Python 3",
   "language": "python",
   "name": "python3"
  },
  "language_info": {
   "codemirror_mode": {
    "name": "ipython",
    "version": 3
   },
   "file_extension": ".py",
   "mimetype": "text/x-python",
   "name": "python",
   "nbconvert_exporter": "python",
   "pygments_lexer": "ipython3",
   "version": "3.12.5"
  }
 },
 "nbformat": 4,
 "nbformat_minor": 2
}
